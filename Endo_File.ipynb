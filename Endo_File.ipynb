{
 "cells": [
  {
   "cell_type": "code",
   "execution_count": 1,
   "id": "ced8ff79-955a-4c92-98fb-cb98ba24ccff",
   "metadata": {},
   "outputs": [
    {
     "name": "stdout",
     "output_type": "stream",
     "text": [
      "['matrix']\n"
     ]
    }
   ],
   "source": [
    "# import modules\n",
    "import h5py\n",
    "\n",
    "# file source: https://www.ncbi.nlm.nih.gov/geo/query/acc.cgi?acc=GSM6595261\n",
    "\n",
    "# import file\n",
    "endo_file = h5py.File(\"GSM6595261_E10_EcO_filtered_feature_bc_matrix.h5\", 'r')\n",
    "print(list(endo_file.keys()))"
   ]
  },
  {
   "cell_type": "code",
   "execution_count": 10,
   "id": "42d1cfde-752c-41a8-acb4-50abc47649aa",
   "metadata": {},
   "outputs": [
    {
     "name": "stdout",
     "output_type": "stream",
     "text": [
      "<KeysViewHDF5 ['barcodes', 'data', 'features', 'indices', 'indptr', 'shape']>\n",
      "(23803985,)\n"
     ]
    }
   ],
   "source": [
    "# get dataset\n",
    "dataset = endo_file['matrix']\n",
    "print(dataset.keys())\n",
    "\n",
    "data = dataset['data']\n",
    "print(data.shape)"
   ]
  },
  {
   "cell_type": "code",
   "execution_count": 17,
   "id": "ec3e4514-7ae8-4b95-b832-677c27f9a167",
   "metadata": {},
   "outputs": [
    {
     "name": "stdout",
     "output_type": "stream",
     "text": [
      "<KeysViewHDF5 ['_all_tag_keys', 'feature_type', 'genome', 'id', 'name']>\n",
      "<HDF5 dataset \"genome\": shape (36601,), type \"|S6\">\n"
     ]
    }
   ],
   "source": [
    "print(dataset['features'].keys())\n",
    "print(dataset['features']['genome'])"
   ]
  },
  {
   "cell_type": "code",
   "execution_count": null,
   "id": "3080693b-b0dd-4432-8cf5-baf0a1053a1c",
   "metadata": {},
   "outputs": [],
   "source": []
  }
 ],
 "metadata": {
  "kernelspec": {
   "display_name": "Python 3 (ipykernel)",
   "language": "python",
   "name": "python3"
  },
  "language_info": {
   "codemirror_mode": {
    "name": "ipython",
    "version": 3
   },
   "file_extension": ".py",
   "mimetype": "text/x-python",
   "name": "python",
   "nbconvert_exporter": "python",
   "pygments_lexer": "ipython3",
   "version": "3.12.3"
  }
 },
 "nbformat": 4,
 "nbformat_minor": 5
}
